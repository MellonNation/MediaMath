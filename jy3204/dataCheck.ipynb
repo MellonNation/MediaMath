{
 "cells": [
  {
   "cell_type": "code",
   "execution_count": 75,
   "id": "c8c950d3-34c9-441a-944e-052b488f9d91",
   "metadata": {},
   "outputs": [],
   "source": [
    "import pandas as pd\n",
    "import numpy as np\n",
    "import re\n",
    "import os\n",
    "from argparse import Namespace\n",
    "from tqdm.notebook import tqdm\n",
    "import seaborn as sns"
   ]
  },
  {
   "cell_type": "code",
   "execution_count": 62,
   "id": "2d69ef5c-99c3-4559-a1c6-aa7507c26490",
   "metadata": {},
   "outputs": [],
   "source": [
    "args = Namespace(\n",
    "    rawCSV = \"roi_data.csv\",\n",
    "    contextual_data = \"context.json\",\n",
    "    modifiedCSV = \"roi_data_new.csv\",\n",
    ")"
   ]
  },
  {
   "cell_type": "markdown",
   "id": "48e3631f-010e-4305-9b02-6f228efc7784",
   "metadata": {},
   "source": [
    "## Modified the csv and separate the contextual_data"
   ]
  },
  {
   "cell_type": "code",
   "execution_count": 74,
   "id": "336547c8-48c0-4f90-bb46-6319f7a95a8a",
   "metadata": {},
   "outputs": [
    {
     "data": {
      "application/vnd.jupyter.widget-view+json": {
       "model_id": "f829743357314e06bfe9456d4e09b125",
       "version_major": 2,
       "version_minor": 0
      },
      "text/plain": [
       "Load CSV Lines:   0%|          | 0/1382864 [00:00<?, ?it/s]"
      ]
     },
     "metadata": {},
     "output_type": "display_data"
    },
    {
     "name": "stdout",
     "output_type": "stream",
     "text": [
      "4056142051629983651,2022-11-30 16:54:12,2022-11-30,3,1,4131,17250,0,19661050,11140120,60231,70007,80171,20005,30009,0,465650,0,80212,40011,0,1,nulls,0,2,43000,\"\",\"\",\"\",\"\",\"\",\"\",\"\",0,0,0.0,0.0,0.0,{},\"\",0,0.0\n",
      "\n"
     ]
    }
   ],
   "source": [
    "badLines = []\n",
    "with open(args.rawCSV,\"r\") as f:\n",
    "    lines = f.readlines()\n",
    "    modifiedLines = []\n",
    "    dicts = []\n",
    "    for i in tqdm(range(len(lines)), desc='Load CSV Lines'):\n",
    "        line = lines[i]\n",
    "        if not i:\n",
    "            modifiedLines.append(line.replace(\"contextual_data,\",\"\"))\n",
    "        else:\n",
    "            findit = re.findall(\"\\\"\\{.*\\}\\\"\",line)\n",
    "            if len(findit):\n",
    "                dictstr = findit[0]\n",
    "                dicts.append(json.loads(dictstr))\n",
    "                newline = line.replace(dictstr,\"\").replace(\",,\",\",\")\n",
    "                modifiedLines.append(newline)\n",
    "            else:\n",
    "                badLines.append(i)\n",
    "                continue\n",
    "with open(args.contextual_data, 'w') as f:\n",
    "    json.dump(dicts, f)\n",
    "\n",
    "with open(args.modifiedCSV, 'w') as f:\n",
    "    f.writelines(modifiedLines)\n",
    "\n",
    "for i in badLines:\n",
    "    print(lines[i])"
   ]
  },
  {
   "cell_type": "code",
   "execution_count": 70,
   "id": "567e5c4b-d206-43ee-b950-ae73760a9355",
   "metadata": {},
   "outputs": [],
   "source": [
    "df = pd.read_csv(args.modifiedCSV)"
   ]
  },
  {
   "cell_type": "code",
   "execution_count": 81,
   "id": "b86e85a1-cec8-4663-b14e-9ef9978cd27a",
   "metadata": {},
   "outputs": [],
   "source": [
    "df[\"roi\"]=df.apply(lambda x: int(x[\"conversion_roi\"]+0.5),axis=1)"
   ]
  },
  {
   "cell_type": "code",
   "execution_count": 84,
   "id": "1820d81f-32fd-409b-a8bc-60bb8df52b43",
   "metadata": {},
   "outputs": [
    {
     "name": "stdout",
     "output_type": "stream",
     "text": [
      "     mm_auction_id\n",
      "roi               \n",
      "0          1363729\n",
      "1            14994\n",
      "2             2956\n",
      "3              767\n",
      "4              319\n",
      "5               97\n"
     ]
    },
    {
     "data": {
      "text/plain": [
       "<AxesSubplot:xlabel='conversion_roi', ylabel='Count'>"
      ]
     },
     "execution_count": 84,
     "metadata": {},
     "output_type": "execute_result"
    },
    {
     "data": {
      "image/png": "[encoded data removed]",
      "text/plain": [
       "<Figure size 640x480 with 1 Axes>"
      ]
     },
     "metadata": {},
     "output_type": "display_data"
    }
   ],
   "source": [
    "table = pd.pivot_table(df, values='mm_auction_id', index=['roi'],aggfunc='count')\n",
    "print(table)\n",
    "sns.histplot(data=df, x=\"conversion_roi\")"
   ]
  },
  {
   "cell_type": "code",
   "execution_count": 86,
   "id": "957e6617-ffcb-4f59-8c56-9dfc3d76576a",
   "metadata": {},
   "outputs": [
    {
     "name": "stdout",
     "output_type": "stream",
     "text": [
      "mm_auction_id 0.99\n",
      "imp_timestamp 0.53\n",
      "impression_date 0.00\n",
      "day_of_week 0.00\n",
      "day_part 0.00\n",
      "exchange_id 0.00\n",
      "publisher_id 0.01\n",
      "site_id 0.03\n",
      "size 0.00\n",
      "creative_id 0.00\n",
      "country_id 0.00\n",
      "region_id 0.00\n",
      "dma_id 0.00\n",
      "conn_speed 0.00\n",
      "isp_id 0.00\n",
      "category_id 0.00\n",
      "deal_id 0.00\n",
      "fold_position 0.00\n",
      "browser_id 0.00\n",
      "os_id 0.00\n",
      "browser_language_id 0.00\n",
      "channel_type 0.00\n",
      "overlapped_brain_pixel_selections 0.12\n",
      "hashed_app_id 0.00\n",
      "id_vintage 0.00\n",
      "device_id 0.00\n",
      "browser 0.00\n",
      "browser_version 0.00\n",
      "os 0.00\n",
      "os_version 0.00\n",
      "device_model 0.00\n",
      "device_manufacturer 0.00\n",
      "device_type 0.00\n",
      "viewability_autotag 0.00\n",
      "cross_device_flag 0.00\n",
      "exchange_viewability_rate 0.00\n",
      "exchange_ctr 0.05\n",
      "exchange_vcr 0.00\n",
      "base_domain 0.01\n",
      "num_device_ids 0.00\n",
      "conversion_roi 0.01\n",
      "roi 0.00\n"
     ]
    }
   ],
   "source": [
    "for name in df.columns:\n",
    "    print(\"{} {:0.2f}\".format(name,len(df[name].unique())/df.shape[0]))"
   ]
  },
  {
   "cell_type": "code",
   "execution_count": 93,
   "id": "b0c219a3-3d3e-4d7f-8f7c-b599e3608d94",
   "metadata": {},
   "outputs": [],
   "source": [
    "def sortFunc(e):\n",
    "    return len(e[1])\n",
    "nameList = [(name,list(df[name].unique())) for name in df.columns]\n",
    "nameList.sort(reverse=True, key=sortFunc)"
   ]
  },
  {
   "cell_type": "code",
   "execution_count": 106,
   "id": "98cc3719-2742-4a10-975a-eec8e32da846",
   "metadata": {},
   "outputs": [
    {
     "data": {
      "application/vnd.jupyter.widget-view+json": {
       "model_id": "045e1ffaaf25433b94850a0c573026cd",
       "version_major": 2,
       "version_minor": 0
      },
      "text/plain": [
       "Generate rows:   0%|          | 0/34900 [00:00<?, ?it/s]"
      ]
     },
     "metadata": {},
     "output_type": "display_data"
    }
   ],
   "source": [
    "def printSummary(namelist,skipNames):\n",
    "    dfTemp = None\n",
    "    modifiedList = [ _ for _ in nameList if _[0] not in skipNames]\n",
    "    for i in tqdm(range(len(modifiedList[0][1])), desc='Generate rows'):\n",
    "        result = {}\n",
    "        for val in modifiedList:\n",
    "            result[val[0]] = [val[1][i] if i<len(val[1]) else None]\n",
    "        if dfTemp is None:\n",
    "            dfTemp = pd.DataFrame.from_dict(result)\n",
    "        else:\n",
    "            dfTemp = pd.concat([dfTemp, pd.DataFrame.from_dict(result)])\n",
    "    return dfTemp\n",
    "\n",
    "dfTemp=printSummary(nameList,[\"mm_auction_id\",\"imp_timestamp\",\"overlapped_brain_pixel_selections\",\"exchange_ctr\"])\n",
    "dfTemp.iloc[1,:]"
   ]
  },
  {
   "cell_type": "code",
   "execution_count": 119,
   "id": "bb934bb4-2963-4a69-b0fc-2a2b2dbe0930",
   "metadata": {},
   "outputs": [
    {
     "data": {
      "text/plain": [
       "site_id                                              300695\n",
       "base_domain                                      sfgate.com\n",
       "publisher_id                                         157076\n",
       "conversion_roi                                        0.385\n",
       "hashed_app_id                                             0\n",
       "device_model                 ma_DesktopMake:mo_DesktopModel\n",
       "browser_version                  br_ChromeMobile:ve_107.0.0\n",
       "deal_id                                                   0\n",
       "category_id                                       432963713\n",
       "os_version                             os_Android:ve_13.0.0\n",
       "dma_id                                                80029\n",
       "exchange_viewability_rate                              65.0\n",
       "device_manufacturer                          ma_DesktopMake\n",
       "browser_language_id                                   28261\n",
       "region_id                                             70016\n",
       "exchange_id                                               3\n",
       "isp_id                                                30014\n",
       "browser                                     br_ChromeMobile\n",
       "impression_date                                  2022-11-23\n",
       "os                                               os_Windows\n",
       "browser_id                                            80212\n",
       "size                                               19661050\n",
       "day_of_week                                               2\n",
       "creative_id                                        11140120\n",
       "os_id                                                 40010\n",
       "roi                                                       1\n",
       "id_vintage                                                1\n",
       "device_id                                             43000\n",
       "device_type                                      fo_Desktop\n",
       "day_part                                                  1\n",
       "conn_speed                                            20001\n",
       "fold_position                                             1\n",
       "channel_type                                              4\n",
       "num_device_ids                                            1\n",
       "country_id                                            60249\n",
       "cross_device_flag                                         0\n",
       "viewability_autotag                                    None\n",
       "exchange_vcr                                           None\n",
       "Name: 0, dtype: object"
      ]
     },
     "execution_count": 119,
     "metadata": {},
     "output_type": "execute_result"
    }
   ],
   "source": []
  },
  {
   "cell_type": "code",
   "execution_count": null,
   "id": "5de949ee-7e38-4972-87ef-eb84da882b73",
   "metadata": {},
   "outputs": [],
   "source": [
    "colname = \"device_model\"\n",
    "colname = \"dma_id\"\n",
    "dfTemp[colname] = dfTemp.apply(lambda x: \"\" if pd.isnull(x[colname]) else \"{}\".format(x[colname]),axis=1)\n",
    "a=list(dfTemp[colname].unique())\n",
    "a.sort(reverse=True)\n",
    "a"
   ]
  },
  {
   "cell_type": "code",
   "execution_count": 129,
   "id": "6e3cfffc-2ad8-4b68-80f0-8d098320f53d",
   "metadata": {},
   "outputs": [
    {
     "data": {
      "text/plain": [
       "Index(['site_id', 'base_domain', 'publisher_id', 'conversion_roi',\n",
       "       'hashed_app_id', 'device_model', 'browser_version', 'deal_id',\n",
       "       'category_id', 'os_version', 'dma_id', 'exchange_viewability_rate',\n",
       "       'device_manufacturer', 'browser_language_id', 'region_id',\n",
       "       'exchange_id', 'isp_id', 'browser', 'impression_date', 'os',\n",
       "       'browser_id', 'size', 'day_of_week', 'creative_id', 'os_id', 'roi',\n",
       "       'id_vintage', 'device_id', 'device_type', 'day_part', 'conn_speed',\n",
       "       'fold_position', 'channel_type', 'num_device_ids', 'country_id',\n",
       "       'cross_device_flag', 'viewability_autotag', 'exchange_vcr'],\n",
       "      dtype='object')"
      ]
     },
     "execution_count": 129,
     "metadata": {},
     "output_type": "execute_result"
    }
   ],
   "source": [
    "dfTemp.columns"
   ]
  },
  {
   "cell_type": "code",
   "execution_count": null,
   "id": "4864d0e8-9102-48fc-a338-4ef1224b7359",
   "metadata": {},
   "outputs": [
    {
     "data": {
      "application/vnd.jupyter.widget-view+json": {
       "model_id": "db7f5fe557ec40008106e922a305de4a",
       "version_major": 2,
       "version_minor": 0
      },
      "text/plain": [
       "Generate keys:   0%|          | 0/1382862 [00:00<?, ?it/s]"
      ]
     },
     "metadata": {},
     "output_type": "display_data"
    }
   ],
   "source": [
    "keys = []\n",
    "for i in tqdm(range(len(dicts)), desc='Generate keys'):\n",
    "    mydict = dicts[i]\n",
    "    keys = keys+list(json.loads(mydict).keys())\n",
    "list(set(keys))"
   ]
  },
  {
   "cell_type": "code",
   "execution_count": 151,
   "id": "4449da6f-6bde-4d05-8ade-6e8c330d1c15",
   "metadata": {},
   "outputs": [
    {
     "data": {
      "text/plain": [
       "['24', '26', '27', '29', '25', '28']"
      ]
     },
     "execution_count": 151,
     "metadata": {},
     "output_type": "execute_result"
    }
   ],
   "source": [
    "list(set(keys))"
   ]
  },
  {
   "cell_type": "code",
   "execution_count": 147,
   "id": "915b6c4c-27b2-4edc-b759-598b1f736415",
   "metadata": {},
   "outputs": [
    {
     "data": {
      "text/plain": [
       "'{\"28\" : {\"3\" : {\"matched\" : [\"51000006\"]},\"2\" : {},\"6\" : {},\"8\" : {}},\"24\":{\"1\":{\"targeted\":[],\"untargeted\":[\"br_in-App\"]}},\"25\":{\"1\":{\"targeted\":[],\"untargeted\":[\"os_Android:ve_12.0.0\"]}},\"29\":{\"1\":{\"targeted\":[],\"untargeted\":[\"ma_Generic:mo_Android 4.0\"]}},\"26\":{\"1\":{\"targeted\":[],\"untargeted\":[\"fo_Feature Phone\"]}}}'"
      ]
     },
     "execution_count": 147,
     "metadata": {},
     "output_type": "execute_result"
    }
   ],
   "source": [
    "mydict"
   ]
  },
  {
   "cell_type": "code",
   "execution_count": 152,
   "id": "06a9f9a2-f39f-4c32-a889-08d3a328d0cb",
   "metadata": {},
   "outputs": [
    {
     "data": {
      "text/plain": [
       "{'27': {'1027': {'matched': []}},\n",
       " '28': {'2': {},\n",
       "  '3': {'matched': ['51000006']},\n",
       "  '9': {},\n",
       "  '1': {},\n",
       "  '7': {},\n",
       "  '6': {},\n",
       "  '8': {}},\n",
       " '24': {'1': {'targeted': [], 'untargeted': ['br_Chrome:ve_107.0.0']}},\n",
       " '25': {'1': {'targeted': [], 'untargeted': ['os_Windows:ve_10.0.0']}},\n",
       " '29': {'1': {'targeted': [],\n",
       "   'untargeted': ['ma_Desktop Make:mo_Desktop Model']}},\n",
       " '26': {'1': {'targeted': [], 'untargeted': ['fo_Desktop']}}}"
      ]
     },
     "execution_count": 152,
     "metadata": {},
     "output_type": "execute_result"
    }
   ],
   "source": [
    "json.loads(mydict)"
   ]
  },
  {
   "cell_type": "code",
   "execution_count": null,
   "id": "f90eadad-9bff-42eb-a73a-21654cccfdc9",
   "metadata": {},
   "outputs": [],
   "source": []
  },
  {
   "cell_type": "code",
   "execution_count": null,
   "id": "2e708e99-1170-4aeb-82ad-c3454dde465b",
   "metadata": {},
   "outputs": [],
   "source": []
  }
 ],
 "metadata": {
  "kernelspec": {
   "display_name": "Python 3 (ipykernel)",
   "language": "python",
   "name": "python3"
  },
  "language_info": {
   "codemirror_mode": {
    "name": "ipython",
    "version": 3
   },
   "file_extension": ".py",
   "mimetype": "text/x-python",
   "name": "python",
   "nbconvert_exporter": "python",
   "pygments_lexer": "ipython3",
   "version": "3.9.13"
  }
 },
 "nbformat": 4,
 "nbformat_minor": 5
}
